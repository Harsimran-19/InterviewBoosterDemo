{
  "cells": [
    {
      "cell_type": "code",
      "execution_count": 1,
      "metadata": {
        "colab": {
          "base_uri": "https://localhost:8080/"
        },
        "id": "pdHv0py1Wm-6",
        "outputId": "e1c15217-e6ad-4e8a-ad2d-3eccab5492ba"
      },
      "outputs": [
        {
          "name": "stdout",
          "output_type": "stream",
          "text": [
            "Requirement already satisfied: python-docx in /usr/local/lib/python3.11/dist-packages (1.1.2)\n",
            "Requirement already satisfied: lxml>=3.1.0 in /usr/local/lib/python3.11/dist-packages (from python-docx) (5.3.1)\n",
            "Requirement already satisfied: typing-extensions>=4.9.0 in /usr/local/lib/python3.11/dist-packages (from python-docx) (4.12.2)\n"
          ]
        }
      ],
      "source": [
        "!pip install python-docx"
      ]
    },
    {
      "cell_type": "code",
      "execution_count": 2,
      "metadata": {
        "id": "hKPkMDlIVSAW"
      },
      "outputs": [
        {
          "ename": "",
          "evalue": "",
          "output_type": "error",
          "traceback": [
            "\u001b[1;31mRunning cells with '.venv (Python 3.10.11)' requires the ipykernel package.\n",
            "\u001b[1;31mRun the following command to install 'ipykernel' into the Python environment. \n",
            "\u001b[1;31mCommand: 'e:/InternUp/resume_parser/.venv/Scripts/python.exe -m pip install ipykernel -U --force-reinstall'"
          ]
        }
      ],
      "source": [
        "from apiclient import discovery\n",
        "from httplib2 import Http\n",
        "from oauth2client import client, file, tools\n",
        "import argparse"
      ]
    },
    {
      "cell_type": "code",
      "execution_count": 3,
      "metadata": {
        "id": "koDadFOSVR-X"
      },
      "outputs": [],
      "source": [
        "SCOPES = \"https://www.googleapis.com/auth/forms.body\"\n",
        "DISCOVERY_DOC = \"https://forms.googleapis.com/$discovery/rest?version=v1\""
      ]
    },
    {
      "cell_type": "code",
      "execution_count": 4,
      "metadata": {
        "id": "o4Myfd69VR7e"
      },
      "outputs": [],
      "source": [
        "store = file.Storage(\"token.json\")\n",
        "creds = None"
      ]
    },
    {
      "cell_type": "code",
      "execution_count": 5,
      "metadata": {
        "colab": {
          "base_uri": "https://localhost:8080/"
        },
        "id": "1Eh0jX9wVR4X",
        "outputId": "a1b83e1c-06bf-410a-a85c-d7477549d00d"
      },
      "outputs": [
        {
          "name": "stdout",
          "output_type": "stream",
          "text": [
            "\n",
            "Go to the following link in your browser:\n",
            "\n",
            "    https://accounts.google.com/o/oauth2/auth?client_id=827704079413-8lemtt51jbmvkm0igqf2p5u5qo2u7ok7.apps.googleusercontent.com&redirect_uri=urn%3Aietf%3Awg%3Aoauth%3A2.0%3Aoob&scope=https%3A%2F%2Fwww.googleapis.com%2Fauth%2Fforms.body&access_type=offline&response_type=code\n",
            "\n",
            "Enter verification code: 4/1AQSTgQEJ7MApQgkrlQESPeGhzJy2TS52hBb_4MD1VdqkvgVkgOiWbw4v1Hg\n",
            "Authentication successful.\n"
          ]
        }
      ],
      "source": [
        "if not creds or creds.invalid:\n",
        "    flow = client.flow_from_clientsecrets(\"client_secrets.json\", SCOPES)\n",
        "\n",
        "    # avoid conflits with Colab environment\n",
        "    flags = argparse.Namespace(auth_host_name='localhost',\n",
        "                               auth_host_port=[8080, 8090],\n",
        "                               logging_level='ERROR',\n",
        "                               noauth_local_webserver=True)\n",
        "    creds = tools.run_flow(flow, store, flags)"
      ]
    },
    {
      "cell_type": "code",
      "execution_count": 6,
      "metadata": {
        "id": "IMnp_P0lVR1e"
      },
      "outputs": [],
      "source": [
        "form_service = discovery.build(\n",
        "    \"forms\",\n",
        "    \"v1\",\n",
        "    http=creds.authorize(Http()),\n",
        "    discoveryServiceUrl=DISCOVERY_DOC,\n",
        "    static_discovery=False,\n",
        ")"
      ]
    },
    {
      "cell_type": "markdown",
      "metadata": {
        "id": "34FNQ8UHVhMM"
      },
      "source": [
        "以上内容是配置，连接api，与authorization。不需要修改的的"
      ]
    },
    {
      "cell_type": "code",
      "execution_count": 7,
      "metadata": {
        "id": "HPE_urCPWuSi"
      },
      "outputs": [],
      "source": [
        "# create a new Google Form\n",
        "NEW_FORM = {\n",
        "    \"info\": {\n",
        "        \"title\": \"Feedback on Your Report\",\n",
        "    }\n",
        "}\n",
        "result = form_service.forms().create(body=NEW_FORM).execute()"
      ]
    },
    {
      "cell_type": "code",
      "execution_count": null,
      "metadata": {
        "id": "bFXtb8vq51yE"
      },
      "outputs": [],
      "source": []
    },
    {
      "cell_type": "code",
      "execution_count": 8,
      "metadata": {
        "id": "5VPeW9Q84GCV"
      },
      "outputs": [],
      "source": [
        "from docx import Document\n",
        "\n",
        "# read Word file and switch to Markdown format for better readability\n",
        "def read_word_as_markdown(file_path):\n",
        "    doc = Document(file_path)\n",
        "    markdown_lines = []\n",
        "\n",
        "    for para in doc.paragraphs:\n",
        "        text = para.text.strip()\n",
        "\n",
        "        # 忽略空行\n",
        "        if not text:\n",
        "            continue\n",
        "\n",
        "        # 处理加粗\n",
        "        if any(run.bold for run in para.runs):\n",
        "            text = f\"**{text}**\"\n",
        "\n",
        "        # 处理斜体\n",
        "        if any(run.italic for run in para.runs):\n",
        "            text = f\"*{text}*\"\n",
        "\n",
        "        # 处理列表项\n",
        "        if text.startswith(\"•\") or text.startswith(\"- \"):\n",
        "            text = f\"- {text.lstrip('•- ')}\"\n",
        "\n",
        "        markdown_lines.append(text)\n",
        "\n",
        "    # 用换行符拼接 Markdown 文本\n",
        "    return \"\\n\\n\".join(markdown_lines)\n",
        "\n",
        "\n",
        "word_file_path = \"dave form4 report.docx\"\n",
        "report_markdown = read_word_as_markdown(word_file_path)"
      ]
    },
    {
      "cell_type": "code",
      "execution_count": null,
      "metadata": {
        "id": "afg9wTGs4F7V"
      },
      "outputs": [],
      "source": []
    },
    {
      "cell_type": "code",
      "execution_count": 9,
      "metadata": {
        "colab": {
          "base_uri": "https://localhost:8080/"
        },
        "id": "HAAOGoaH0j7o",
        "outputId": "a1781b75-6dad-462f-f826-65c4dd351ece"
      },
      "outputs": [
        {
          "data": {
            "text/plain": [
              "{'replies': [{},\n",
              "  {'createItem': {'itemId': '71b42b29', 'questionId': ['046fd327']}},\n",
              "  {'createItem': {'itemId': '0c21d695'}},\n",
              "  {'createItem': {'itemId': '180d6ce0'}}],\n",
              " 'writeControl': {'requiredRevisionId': '00000004'}}"
            ]
          },
          "execution_count": 9,
          "metadata": {},
          "output_type": "execute_result"
        }
      ],
      "source": [
        "# use batchUpdate to add `description`，`email question`，and `Report Preview` title\n",
        "UPDATE_REQUEST = {\n",
        "    \"requests\": [\n",
        "        {\n",
        "            \"updateFormInfo\": {\n",
        "                \"info\": {\n",
        "                    \"description\": \"\"\"Dear Candidate,\n",
        "\n",
        "This questionnaire is a job-seeking analysis report generated based on your previous responses, and it is fully customized. We have broken down the entire report into individual sentences for your evaluation. What you are expected to do is to assess each sentence by answering:\n",
        "\n",
        "1. Do you agree or not?\n",
        "2. Is it useful or not?\n",
        "\n",
        "Your feedback is very important to us. Thank you for your participation!\n",
        "                    \"\"\"\n",
        "                },\n",
        "                \"updateMask\": \"description\"\n",
        "            }\n",
        "        },\n",
        "        # add \"Please enter your email address here\" question as default\n",
        "        {\n",
        "            \"createItem\": {\n",
        "                \"item\": {\n",
        "                    \"title\": \"Please enter your email address here\",\n",
        "                    \"questionItem\": {\n",
        "                        \"question\": {\n",
        "                            \"required\": True,  # set as \"required\"\n",
        "                            \"textQuestion\": {\n",
        "                                \"paragraph\": False  # short answer input\n",
        "                            }\n",
        "                        }\n",
        "                    }\n",
        "                },\n",
        "                \"location\": {\n",
        "                    \"index\": 0  # add it to the top\n",
        "                }\n",
        "            }\n",
        "        },\n",
        "        # add \"Report Preview\" title (text)\n",
        "        {\n",
        "            \"createItem\": {\n",
        "                \"item\": {\n",
        "                    \"title\": \"**You can see your Report Preview here first for better understanding:**\",  # bold\n",
        "                    \"textItem\": {},  # tell Google Forms that this is a text part（not a question or Section）\n",
        "                },\n",
        "                \"location\": {\n",
        "                    \"index\": 1  # add it after the email question\n",
        "                }\n",
        "            }\n",
        "        },\n",
        "        # insert report content (text)\n",
        "        {\n",
        "            \"createItem\": {\n",
        "                \"item\": {\n",
        "                    \"title\": \"\",  # empty\n",
        "                    \"description\": report_markdown,  # put the content of Word file into description\n",
        "                    \"textItem\": {}  # switch it to normal text\n",
        "                },\n",
        "                \"location\": {\n",
        "                    \"index\": 2  # insert the whole part after \"Report Preview\"\n",
        "                }\n",
        "            }\n",
        "        }\n",
        "    ]\n",
        "}\n",
        "\n",
        "# execute\n",
        "form_service.forms().batchUpdate(formId=result[\"formId\"], body=UPDATE_REQUEST).execute()\n"
      ]
    },
    {
      "cell_type": "code",
      "execution_count": null,
      "metadata": {
        "id": "7A8gpIu7yK0u"
      },
      "outputs": [],
      "source": []
    },
    {
      "cell_type": "code",
      "execution_count": null,
      "metadata": {
        "id": "hekR7jQTsxfE"
      },
      "outputs": [],
      "source": []
    },
    {
      "cell_type": "code",
      "execution_count": 13,
      "metadata": {
        "colab": {
          "base_uri": "https://localhost:8080/"
        },
        "id": "5SF2J5BotFgA",
        "outputId": "a1a05a31-b3b4-4298-a23c-d31aa7de23d1"
      },
      "outputs": [
        {
          "name": "stdout",
          "output_type": "stream",
          "text": [
            "['Job Application Evaluation Report', 'Overall Score: 60 / 100\\nSummary:\\nYou have been actively job searching for more than 4 months, submitted 500-1000 applications, yet received only 1 online assessment and 0 interviews.', 'This suggests a serious bottleneck in your job search process—likely at the resume screening or networking stage.', 'Your understanding of job search strategies is incomplete, particularly regarding ATS, mass vs. targeted applications, and SME (small-to-medium enterprises) job opportunities.', 'Your resume & LinkedIn need refinement, especially in tailoring and showcasing your projects more effectively.', 'To increase your interview rate, you should aim to achieve 80+ points by improving resume strategy, LinkedIn engagement, and networking tactics.', 'Section 1: Current Status Evaluation', '(Score: 7/10)', 'What You’re Doing Well:\\nStrong technical background from Washington University in St. Louis.', 'Two U.S. internships—a valuable asset for job applications.', 'Proactive mindset, open to projects that enrich experience.', 'Areas for Improvement:', 'Interview conversion is extremely low.', 'You need to identify if the issue is due to ATS filtering, a weak resume, or poor targeting.', 'Your job search strategy needs optimization—mass applying without a strong ATS strategy leads to wasted effort.', 'Actionable Advice:', 'Analyze your job application process—Where do applications fail?', 'Resume screening?', 'Online assessments?', 'Shift from mass applying to strategic targeting—focus on tailoring applications to roles that align with your experience.', 'Section 2: Goals & Interest Areas', 'You have a clear career goal in software development, specifically backend, full-stack, and machine learning engineering.', 'Your responses indicate:\\nA high-risk tolerance, preferring flexibility over rigid planning.', 'You value impact & leadership as much as financial compensation.', 'You believe software development is the best fit for your skills.', 'Suggested Next Steps:', 'Given your curiosity about Finance & Banking, Media, and Entertainment, explore software roles in those industries to align career interests with job market demand.', 'Consider whether you want to lean more into machine learning roles or if you are comfortable with general SDE roles.', 'Section 3: Job Search Strategies & Awareness', '(Score: 12/35)', 'What You’re Doing Well:\\nStrong understanding of passion & career alignment.', 'Acknowledges the value of internship & projects.', 'Understands LinkedIn networking & endorsements.', 'Areas for Improvement:', 'No clear job search strategy (no answer given on mass vs. targeted applying).', 'Unaware of ATS biases against F1 visa holders.', 'No understanding of SME job market for visa sponsorship.', 'Disagrees with effective mass application strategies, which suggests a misaligned approach.', 'Actionable Advice:\\nFix ATS-related issues—adjust your resume for keywords & application tracking systems.', 'Apply to more SME companies instead of focusing too much on large firms.', 'Diversify application strategies—include networking & referrals, not just online submissions.', 'Section 4: Resume & LinkedIn Optimization', '(Score: 16/25)', 'What You’re Doing Well:\\nYou understand the importance of resume optimization.', 'Your resume follows STARS rules and has no spelling errors.', 'You have endorsements and recommendations on LinkedIn.', 'Areas for Improvement:', 'Resume is too dense and overly technical.', 'Projects are not showcased effectively.', 'No personal branding elements (GitHub, personal website).', 'Your LinkedIn engagement is minimal (0 posts, low endorsement count).', 'No differentiation between resumes for startups vs. established firms.', 'Actionable Advice:\\nReformat resume to be concise & outcome-focused.', 'Highlight key projects with quantifiable impact.', 'Increase LinkedIn engagement—publish posts, interact with firms.', 'Showcase work via GitHub or portfolio site.', 'Customize resumes for different job types.', 'Section 5: Networking & Referrals', '(Score: 15/20)', 'What You’re Doing Well:\\nOpen to networking, adding employees from firms you apply to.', 'First-order connections with target company employees.', 'Willing to promote career-related content.', 'Areas for Improvement:', 'No referral strategy.', 'No indication of direct networking outreach (e.g., cold emails).', 'No evidence of leveraging alumni or past employers for referrals.', 'Actionable Advice:\\nAsk for informational interviews with industry professionals.', 'Target referral pipelines—engage with recruiters or past connections.', 'Attend virtual meetups & career fairs to make valuable connections.', 'Section 6: Mental Health Evaluation', '(Score: 10/10)', 'Your current job search emotions: \"Stuck\" & stressed about peers’ success.', 'However, the survey helped reduce stress and boost confidence.', 'Practical Suggestions for Mental Well-Being:\\nSet realistic, process-oriented goals (e.g., “5 strategic applications per day” instead of “I must get an interview”).', 'Limit comparison to others—everyone’s career journey is unique.', 'Take intentional breaks to avoid burnout.', 'Find peer support groups to stay motivated.', 'Priority Recommendations', 'To increase your interview rate, focus on these improvements in order of priority:', '1️st Resume & LinkedIn Optimization (Section 4)\\nMake your resume more concise, project-driven, and ATS-friendly.', 'Increase LinkedIn engagement and add a personal portfolio.', '2️nd Job Search Strategies & Awareness (Section 3)\\nFix your approach to ATS filtering & SME job targeting.', 'Apply strategically, not just in bulk.', '3️rd Networking & Referrals (Section 5)\\nActively seek referrals instead of relying only on applications.', 'Initiate cold emails & alumni outreach.', 'Final Encouragement', 'Your technical background is strong, but your application process needs optimization.', 'Instead of spraying applications blindly, refine your strategy—improve your resume, engage more on LinkedIn, and network intentionally.', \"You have the skills; now it's time to present them effectively!\", 'Keep pushing forward!']\n"
          ]
        }
      ],
      "source": [
        "import re\n",
        "from docx import Document  # 读取 .docx\n",
        "\n",
        "# read file\n",
        "file_path = \"chuqi 2.0 report.docx\"\n",
        "document = Document(file_path)\n",
        "\n",
        "# Define common abbreviations to prevent incorrect splitting\n",
        "abbreviations = {\n",
        "    \"U.S.\": \"US_MARKER\",\n",
        "    \"U.K.\": \"UK_MARKER\",\n",
        "    \"e.g.\": \"EG_MARKER\",\n",
        "    \"i.e.\": \"IE_MARKER\",\n",
        "    \"St. \": \"ST_MARKER \",  # \"St. Louis\" needs to retain the space\n",
        "    \"vs.\": \"VS_MARKER\",\n",
        "}\n",
        "\n",
        "def protect_abbreviations(text):\n",
        "    \"\"\"Protect abbreviations using placeholders\"\"\"\n",
        "    for abbr, marker in abbreviations.items():\n",
        "        text = text.replace(abbr, marker)\n",
        "    return text\n",
        "\n",
        "def restore_abbreviations(text):\n",
        "    \"\"\"Restore placeholders to their original abbreviations\"\"\"\n",
        "    for abbr, marker in abbreviations.items():\n",
        "        text = text.replace(marker, abbr)\n",
        "    return text\n",
        "\n",
        "# process report content\n",
        "all_sentences = []\n",
        "for para in document.paragraphs:\n",
        "    if para.text.strip():  # skip empty paragraph\n",
        "        protected_text = protect_abbreviations(para.text.strip())  # replace the abbreviations\n",
        "        sentences = re.split(r'(?<=[.?!])\\s+', protected_text)  # split by usual rule first\n",
        "        sentences = [restore_abbreviations(sentence) for sentence in sentences]  # replace by correct format again\n",
        "        all_sentences.extend(sentences)  # add to sentemces list\n",
        "\n",
        "# print result\n",
        "print(all_sentences)\n"
      ]
    },
    {
      "cell_type": "code",
      "execution_count": null,
      "metadata": {
        "id": "1sOwOr6JhYoN"
      },
      "outputs": [],
      "source": []
    },
    {
      "cell_type": "markdown",
      "metadata": {
        "id": "pGzJ3xZuNy9E"
      },
      "source": [
        "add \"time\" to buffer the api limit every time"
      ]
    },
    {
      "cell_type": "code",
      "execution_count": 15,
      "metadata": {
        "colab": {
          "base_uri": "https://localhost:8080/"
        },
        "id": "HpucqzJ_h65r",
        "outputId": "435d47f7-f48b-49da-a956-6c56f10256e4"
      },
      "outputs": [
        {
          "name": "stdout",
          "output_type": "stream",
          "text": [
            "Form URL: https://docs.google.com/forms/d/e/1FAIpQLScm8e3XKLEjKQvpPD-m4p6HPGdo3TymRGslAdCZ7Pc78WGINg/viewform\n"
          ]
        }
      ],
      "source": [
        "import time\n",
        "\n",
        "# go through all sentences to generate report\n",
        "current_index = 3\n",
        "for sentence in all_sentences:\n",
        "    sentence = sentence.strip().replace(\"\\n\", \" \")  # remove newline sign to avoid bug\n",
        "\n",
        "    if re.match(r\"(?i)section \\d+:?\", sentence):  # match Section title\n",
        "        # create Section title\n",
        "        section_body = {\n",
        "            \"requests\": [\n",
        "                {\n",
        "                    \"createItem\": {\n",
        "                        \"item\": {\n",
        "                            \"title\": sentence,  # Section title\n",
        "                            \"pageBreakItem\": {},  # a new Section\n",
        "                        },\n",
        "                        \"location\": {\"index\": current_index},\n",
        "                    }\n",
        "                }\n",
        "            ]\n",
        "        }\n",
        "        form_service.forms().batchUpdate(formId=result[\"formId\"], body=section_body).execute()\n",
        "        current_index += 1\n",
        "    elif sentence.endswith(\":\"):  # normal title（end with \":\"）\n",
        "        # create Form title\n",
        "        title_body = {\n",
        "            \"requests\": [\n",
        "                {\n",
        "                    \"createItem\": {\n",
        "                        \"item\": {\n",
        "                            \"title\": sentence,  # normal titles\n",
        "                            \"textItem\": {},  # only show as text\n",
        "                        },\n",
        "                        \"location\": {\"index\": current_index},\n",
        "                    }\n",
        "                }\n",
        "            ]\n",
        "        }\n",
        "        form_service.forms().batchUpdate(formId=result[\"formId\"], body=title_body).execute()\n",
        "        current_index += 1\n",
        "    else:\n",
        "        # create 2 questions for each sentences (agreement level + usefulness)\n",
        "        # q 1：agreement level\n",
        "        question_body1 = {\n",
        "            \"requests\": [\n",
        "                {\n",
        "                    \"createItem\": {\n",
        "                        \"item\": {\n",
        "                            \"title\": sentence,  # question title\n",
        "                            \"questionItem\": {\n",
        "                                \"question\": {\n",
        "                                    \"required\": True,\n",
        "                                    \"scaleQuestion\": {\n",
        "                                        \"low\": 1,\n",
        "                                        \"high\": 5,\n",
        "                                        \"lowLabel\": \"Strongly Disagree\",\n",
        "                                        \"highLabel\": \"Strongly Agree\",\n",
        "                                    },\n",
        "                                }\n",
        "                            },\n",
        "                        },\n",
        "                        \"location\": {\"index\": current_index},\n",
        "                    }\n",
        "                }\n",
        "            ]\n",
        "        }\n",
        "        form_service.forms().batchUpdate(formId=result[\"formId\"], body=question_body1).execute()\n",
        "        current_index += 1\n",
        "        time.sleep(1) # **add 1 second buffer to avoid api limit**\n",
        "\n",
        "        # q 2: usefulness\n",
        "        question_body2 = {\n",
        "            \"requests\": [\n",
        "                {\n",
        "                    \"createItem\": {\n",
        "                        \"item\": {\n",
        "                            \"title\": \"Do you think the statement/score/suggestions you just read is useful to you?\",\n",
        "                            \"questionItem\": {\n",
        "                                \"question\": {\n",
        "                                    \"required\": True,\n",
        "                                    \"choiceQuestion\": {  # multiple chioce\n",
        "                                        \"type\": \"RADIO\",  # single chioce\n",
        "                                        \"options\": [\n",
        "                                            {\"value\": \"Yes\"},\n",
        "                                            {\"value\": \"No\"}\n",
        "                                        ],\n",
        "                                    },\n",
        "                                }\n",
        "                            },\n",
        "                        },\n",
        "                        \"location\": {\"index\": current_index},\n",
        "                    }\n",
        "                }\n",
        "            ]\n",
        "        }\n",
        "        form_service.forms().batchUpdate(formId=result[\"formId\"], body=question_body2).execute()\n",
        "        current_index += 1\n",
        "        time.sleep(1)  # **add 1 second buffer**\n",
        "\n",
        "# get completed form link\n",
        "get_result = form_service.forms().get(formId=result[\"formId\"]).execute()\n",
        "print(\"Form URL:\", get_result[\"responderUri\"])\n"
      ]
    },
    {
      "cell_type": "code",
      "execution_count": null,
      "metadata": {
        "id": "zdvfltkwhYlg"
      },
      "outputs": [],
      "source": []
    },
    {
      "cell_type": "code",
      "execution_count": null,
      "metadata": {
        "id": "HKBF4v2QhYhk"
      },
      "outputs": [],
      "source": []
    },
    {
      "cell_type": "code",
      "execution_count": null,
      "metadata": {
        "id": "w4iZ0LCGhYe_"
      },
      "outputs": [],
      "source": []
    },
    {
      "cell_type": "code",
      "execution_count": null,
      "metadata": {
        "id": "axlTrroJhYbv"
      },
      "outputs": [],
      "source": []
    },
    {
      "cell_type": "code",
      "execution_count": null,
      "metadata": {
        "id": "w2IU3M75hdg1"
      },
      "outputs": [],
      "source": []
    },
    {
      "cell_type": "code",
      "execution_count": null,
      "metadata": {
        "id": "7fTQ1yBshdd0"
      },
      "outputs": [],
      "source": []
    },
    {
      "cell_type": "code",
      "execution_count": null,
      "metadata": {
        "id": "Ouaw1acye36R"
      },
      "outputs": [],
      "source": []
    },
    {
      "cell_type": "code",
      "execution_count": null,
      "metadata": {
        "id": "KMGe3QSme337"
      },
      "outputs": [],
      "source": []
    },
    {
      "cell_type": "code",
      "execution_count": null,
      "metadata": {
        "id": "hgGQS-a7e31V"
      },
      "outputs": [],
      "source": []
    },
    {
      "cell_type": "code",
      "execution_count": null,
      "metadata": {
        "id": "jHifKg4Ke3yw"
      },
      "outputs": [],
      "source": []
    }
  ],
  "metadata": {
    "colab": {
      "provenance": []
    },
    "kernelspec": {
      "display_name": ".venv",
      "language": "python",
      "name": "python3"
    },
    "language_info": {
      "name": "python",
      "version": "3.10.11"
    }
  },
  "nbformat": 4,
  "nbformat_minor": 0
}
